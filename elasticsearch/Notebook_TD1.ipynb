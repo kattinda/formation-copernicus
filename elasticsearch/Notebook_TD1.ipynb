{
  "nbformat": 4,
  "nbformat_minor": 0,
  "metadata": {
    "colab": {
      "provenance": []
    },
    "kernelspec": {
      "name": "python3",
      "display_name": "Python 3"
    },
    "language_info": {
      "name": "python"
    }
  },
  "cells": [
    {
      "cell_type": "markdown",
      "source": [
        "## Installation des librairies"
      ],
      "metadata": {
        "id": "SwH5E8JTPj0y"
      }
    },
    {
      "cell_type": "code",
      "source": [
        "!pip install elasticsearch"
      ],
      "metadata": {
        "colab": {
          "base_uri": "https://localhost:8080/"
        },
        "id": "tF92HUULPgsC",
        "outputId": "0c8fafbe-cc3e-430a-fe6f-34c856f8dbb6"
      },
      "execution_count": null,
      "outputs": [
        {
          "output_type": "stream",
          "name": "stdout",
          "text": [
            "Collecting elasticsearch\n",
            "  Downloading elasticsearch-8.12.0-py3-none-any.whl (431 kB)\n",
            "\u001b[?25l     \u001b[90m━━━━━━━━━━━━━━━━━━━━━━━━━━━━━━━━━━━━━━━━\u001b[0m \u001b[32m0.0/431.9 kB\u001b[0m \u001b[31m?\u001b[0m eta \u001b[36m-:--:--\u001b[0m\r\u001b[2K     \u001b[91m━━━━━━━━━━━━━━━━\u001b[0m\u001b[90m╺\u001b[0m\u001b[90m━━━━━━━━━━━━━━━━━━━━━━━\u001b[0m \u001b[32m174.1/431.9 kB\u001b[0m \u001b[31m5.1 MB/s\u001b[0m eta \u001b[36m0:00:01\u001b[0m\r\u001b[2K     \u001b[90m━━━━━━━━━━━━━━━━━━━━━━━━━━━━━━━━━━━━━━━━\u001b[0m \u001b[32m431.9/431.9 kB\u001b[0m \u001b[31m6.7 MB/s\u001b[0m eta \u001b[36m0:00:00\u001b[0m\n",
            "\u001b[?25hCollecting elastic-transport<9,>=8 (from elasticsearch)\n",
            "  Downloading elastic_transport-8.12.0-py3-none-any.whl (59 kB)\n",
            "\u001b[?25l     \u001b[90m━━━━━━━━━━━━━━━━━━━━━━━━━━━━━━━━━━━━━━━━\u001b[0m \u001b[32m0.0/59.9 kB\u001b[0m \u001b[31m?\u001b[0m eta \u001b[36m-:--:--\u001b[0m\r\u001b[2K     \u001b[90m━━━━━━━━━━━━━━━━━━━━━━━━━━━━━━━━━━━━━━━━\u001b[0m \u001b[32m59.9/59.9 kB\u001b[0m \u001b[31m7.6 MB/s\u001b[0m eta \u001b[36m0:00:00\u001b[0m\n",
            "\u001b[?25hRequirement already satisfied: urllib3<3,>=1.26.2 in /usr/local/lib/python3.10/dist-packages (from elastic-transport<9,>=8->elasticsearch) (2.0.7)\n",
            "Requirement already satisfied: certifi in /usr/local/lib/python3.10/dist-packages (from elastic-transport<9,>=8->elasticsearch) (2023.11.17)\n",
            "Installing collected packages: elastic-transport, elasticsearch\n",
            "Successfully installed elastic-transport-8.12.0 elasticsearch-8.12.0\n"
          ]
        }
      ]
    },
    {
      "cell_type": "markdown",
      "source": [
        "## Importation des librairies"
      ],
      "metadata": {
        "id": "LsyZQtMYPr5M"
      }
    },
    {
      "cell_type": "code",
      "source": [
        "import pandas as pd\n",
        "import json\n",
        "from elasticsearch import Elasticsearch"
      ],
      "metadata": {
        "id": "9wdWftduPf8Z"
      },
      "execution_count": null,
      "outputs": []
    },
    {
      "cell_type": "markdown",
      "source": [
        "## Connexion à Elasticsearch"
      ],
      "metadata": {
        "id": "Cy0l0rl0P7_7"
      }
    },
    {
      "cell_type": "code",
      "source": [
        "es = Elasticsearch(\n",
        "    hosts=[\"https://your_Kibana_endpoint\"],\n",
        "    http_auth=('username', 'password')\n",
        ")\n",
        "\n",
        "# Tester la connexion :\n",
        "print(es.info())"
      ],
      "metadata": {
        "colab": {
          "base_uri": "https://localhost:8080/"
        },
        "id": "nhUYY7JGP_5Z",
        "outputId": "2409f757-27bf-4a31-9e1a-78773f7c5ad2"
      },
      "execution_count": null,
      "outputs": [
        {
          "output_type": "stream",
          "name": "stdout",
          "text": [
            "{'name': 'instance-0000000001', 'cluster_name': '4d93a9d04e65411492df29fb3ddd8200', 'cluster_uuid': 'oFNLdB58TnqAb7wFvzHsWQ', 'version': {'number': '8.12.0', 'build_flavor': 'default', 'build_type': 'docker', 'build_hash': '1665f706fd9354802c02146c1e6b5c0fbcddfbc9', 'build_date': '2024-01-11T10:05:27.953830042Z', 'build_snapshot': False, 'lucene_version': '9.9.1', 'minimum_wire_compatibility_version': '7.17.0', 'minimum_index_compatibility_version': '7.0.0'}, 'tagline': 'You Know, for Search'}\n"
          ]
        },
        {
          "output_type": "stream",
          "name": "stderr",
          "text": [
            "<ipython-input-75-af6c521773b0>:1: DeprecationWarning: The 'http_auth' parameter is deprecated. Use 'basic_auth' or 'bearer_auth' parameters instead\n",
            "  es = Elasticsearch(\n"
          ]
        }
      ]
    },
    {
      "cell_type": "markdown",
      "source": [
        "\n",
        "\n",
        "---\n",
        "\n",
        "\n",
        "# Exercice 1 : `Indexation`"
      ],
      "metadata": {
        "id": "yEomg0L9iD2W"
      }
    },
    {
      "cell_type": "code",
      "source": [
        "###############################################   # Exercice 1: Indexation\n",
        "\n",
        "# Énoncé: Indexez un nouveau document dans l'index ecommerce.\n",
        "\n",
        "doc = {\n",
        "    \"product\": \"Chaussures de sport\",\n",
        "    \"price\": 59.99,\n",
        "    \"currency\": \"EUR\",\n",
        "    \"quantity\": 100,\n",
        "    \"brand\": \"SportyCo\",\n",
        "    \"timestamp\": \"2023-08-29T12:01:00\"\n",
        "}\n",
        "\n",
        "response = es.index(index=\"ecommerce\", document=doc)\n",
        "print(response)"
      ],
      "metadata": {
        "colab": {
          "base_uri": "https://localhost:8080/"
        },
        "id": "W20ANfBRRXei",
        "outputId": "94f04841-abe3-49a6-98f6-02cf4185ea57"
      },
      "execution_count": null,
      "outputs": [
        {
          "output_type": "stream",
          "name": "stdout",
          "text": [
            "{'_index': 'ecommerce', '_id': 'ueRGWo0BeKZ3WHn9XJAy', '_version': 1, 'result': 'created', '_shards': {'total': 2, 'successful': 2, 'failed': 0}, '_seq_no': 0, '_primary_term': 1}\n"
          ]
        }
      ]
    },
    {
      "cell_type": "markdown",
      "source": [
        "\n",
        "\n",
        "---\n",
        "\n",
        "\n",
        "# Exercice 2 : `Recherche simple`"
      ],
      "metadata": {
        "id": "G_B2QModkFOD"
      }
    },
    {
      "cell_type": "code",
      "execution_count": null,
      "metadata": {
        "colab": {
          "base_uri": "https://localhost:8080/"
        },
        "id": "vrUdNjvRPGFw",
        "outputId": "9f3c8b7f-21c5-4b09-b595-863017d67838"
      },
      "outputs": [
        {
          "output_type": "stream",
          "name": "stdout",
          "text": [
            "{'took': 1, 'timed_out': False, '_shards': {'total': 1, 'successful': 1, 'skipped': 0, 'failed': 0}, 'hits': {'total': {'value': 1, 'relation': 'eq'}, 'max_score': 0.2876821, 'hits': [{'_shard': '[ecommerce][0]', '_node': 'wjujGcMfQjiCbF7c0g-pSQ', '_index': 'ecommerce', '_id': 'ueRGWo0BeKZ3WHn9XJAy', '_score': 0.2876821, '_source': {'product': 'Chaussures de sport', 'price': 59.99, 'currency': 'EUR', 'quantity': 100, 'brand': 'SportyCo', 'timestamp': '2023-08-29T12:01:00'}, '_explanation': {'value': 0.2876821, 'description': 'weight(product:sport in 0) [PerFieldSimilarity], result of:', 'details': [{'value': 0.2876821, 'description': 'score(freq=1.0), computed as boost * idf * tf from:', 'details': [{'value': 2.2, 'description': 'boost', 'details': []}, {'value': 0.2876821, 'description': 'idf, computed as log(1 + (N - n + 0.5) / (n + 0.5)) from:', 'details': [{'value': 1, 'description': 'n, number of documents containing term', 'details': []}, {'value': 1, 'description': 'N, total number of documents with field', 'details': []}]}, {'value': 0.45454544, 'description': 'tf, computed as freq / (freq + k1 * (1 - b + b * dl / avgdl)) from:', 'details': [{'value': 1.0, 'description': 'freq, occurrences of term within document', 'details': []}, {'value': 1.2, 'description': 'k1, term saturation parameter', 'details': []}, {'value': 0.75, 'description': 'b, length normalization parameter', 'details': []}, {'value': 3.0, 'description': 'dl, length of field', 'details': []}, {'value': 3.0, 'description': 'avgdl, average length of field', 'details': []}]}]}]}}]}}\n"
          ]
        }
      ],
      "source": [
        "###############################################   Exercice 2: Recherche simple\n",
        "\n",
        "## Énoncé: Effectuez une recherche pour tous les produits dont le nom contient le mot \"sport\".\n",
        "\n",
        "response = es.search(index=\"ecommerce\", body={\n",
        "    \"query\": {\n",
        "        \"match\": {\n",
        "            \"product\": \"sport\"\n",
        "        }\n",
        "    },\n",
        "    \"explain\": \"true\"\n",
        "})\n",
        "\n",
        "print(response)"
      ]
    },
    {
      "cell_type": "code",
      "source": [
        "response"
      ],
      "metadata": {
        "colab": {
          "base_uri": "https://localhost:8080/"
        },
        "id": "EWIZZ64ageXi",
        "outputId": "25bcfbe6-b59e-4565-dbec-21f430f661f6"
      },
      "execution_count": null,
      "outputs": [
        {
          "output_type": "execute_result",
          "data": {
            "text/plain": [
              "ObjectApiResponse({'took': 1, 'timed_out': False, '_shards': {'total': 1, 'successful': 1, 'skipped': 0, 'failed': 0}, 'hits': {'total': {'value': 1, 'relation': 'eq'}, 'max_score': 0.2876821, 'hits': [{'_shard': '[ecommerce][0]', '_node': 'wjujGcMfQjiCbF7c0g-pSQ', '_index': 'ecommerce', '_id': 'ueRGWo0BeKZ3WHn9XJAy', '_score': 0.2876821, '_source': {'product': 'Chaussures de sport', 'price': 59.99, 'currency': 'EUR', 'quantity': 100, 'brand': 'SportyCo', 'timestamp': '2023-08-29T12:01:00'}, '_explanation': {'value': 0.2876821, 'description': 'weight(product:sport in 0) [PerFieldSimilarity], result of:', 'details': [{'value': 0.2876821, 'description': 'score(freq=1.0), computed as boost * idf * tf from:', 'details': [{'value': 2.2, 'description': 'boost', 'details': []}, {'value': 0.2876821, 'description': 'idf, computed as log(1 + (N - n + 0.5) / (n + 0.5)) from:', 'details': [{'value': 1, 'description': 'n, number of documents containing term', 'details': []}, {'value': 1, 'description': 'N, total number of documents with field', 'details': []}]}, {'value': 0.45454544, 'description': 'tf, computed as freq / (freq + k1 * (1 - b + b * dl / avgdl)) from:', 'details': [{'value': 1.0, 'description': 'freq, occurrences of term within document', 'details': []}, {'value': 1.2, 'description': 'k1, term saturation parameter', 'details': []}, {'value': 0.75, 'description': 'b, length normalization parameter', 'details': []}, {'value': 3.0, 'description': 'dl, length of field', 'details': []}, {'value': 3.0, 'description': 'avgdl, average length of field', 'details': []}]}]}]}}]}})"
            ]
          },
          "metadata": {},
          "execution_count": 37
        }
      ]
    },
    {
      "cell_type": "code",
      "source": [
        "# Get the key \"hits\" and understand the model\n",
        "hits = response['hits']['hits']\n",
        "hits"
      ],
      "metadata": {
        "colab": {
          "base_uri": "https://localhost:8080/"
        },
        "id": "KKnDNspoh7Nf",
        "outputId": "21102647-ca05-432f-9c6a-287c92a8928d"
      },
      "execution_count": null,
      "outputs": [
        {
          "output_type": "execute_result",
          "data": {
            "text/plain": [
              "[{'_shard': '[ecommerce][0]',\n",
              "  '_node': 'wjujGcMfQjiCbF7c0g-pSQ',\n",
              "  '_index': 'ecommerce',\n",
              "  '_id': 'ueRGWo0BeKZ3WHn9XJAy',\n",
              "  '_score': 0.2876821,\n",
              "  '_source': {'product': 'Chaussures de sport',\n",
              "   'price': 59.99,\n",
              "   'currency': 'EUR',\n",
              "   'quantity': 100,\n",
              "   'brand': 'SportyCo',\n",
              "   'timestamp': '2023-08-29T12:01:00'},\n",
              "  '_explanation': {'value': 0.2876821,\n",
              "   'description': 'weight(product:sport in 0) [PerFieldSimilarity], result of:',\n",
              "   'details': [{'value': 0.2876821,\n",
              "     'description': 'score(freq=1.0), computed as boost * idf * tf from:',\n",
              "     'details': [{'value': 2.2, 'description': 'boost', 'details': []},\n",
              "      {'value': 0.2876821,\n",
              "       'description': 'idf, computed as log(1 + (N - n + 0.5) / (n + 0.5)) from:',\n",
              "       'details': [{'value': 1,\n",
              "         'description': 'n, number of documents containing term',\n",
              "         'details': []},\n",
              "        {'value': 1,\n",
              "         'description': 'N, total number of documents with field',\n",
              "         'details': []}]},\n",
              "      {'value': 0.45454544,\n",
              "       'description': 'tf, computed as freq / (freq + k1 * (1 - b + b * dl / avgdl)) from:',\n",
              "       'details': [{'value': 1.0,\n",
              "         'description': 'freq, occurrences of term within document',\n",
              "         'details': []},\n",
              "        {'value': 1.2,\n",
              "         'description': 'k1, term saturation parameter',\n",
              "         'details': []},\n",
              "        {'value': 0.75,\n",
              "         'description': 'b, length normalization parameter',\n",
              "         'details': []},\n",
              "        {'value': 3.0, 'description': 'dl, length of field', 'details': []},\n",
              "        {'value': 3.0,\n",
              "         'description': 'avgdl, average length of field',\n",
              "         'details': []}]}]}]}}]"
            ]
          },
          "metadata": {},
          "execution_count": 48
        }
      ]
    },
    {
      "cell_type": "code",
      "source": [
        "# Get source information\n",
        "source_list = [hit['_source'] for hit in hits]\n",
        "df = pd.json_normalize(source_list)\n",
        "print(df)"
      ],
      "metadata": {
        "colab": {
          "base_uri": "https://localhost:8080/"
        },
        "id": "mewlJHyGesCl",
        "outputId": "fd2e9fbf-6b41-4124-bd3c-369b89207d51"
      },
      "execution_count": null,
      "outputs": [
        {
          "output_type": "stream",
          "name": "stdout",
          "text": [
            "               product  price currency  quantity     brand  \\\n",
            "0  Chaussures de sport  59.99      EUR       100  SportyCo   \n",
            "\n",
            "             timestamp  \n",
            "0  2023-08-29T12:01:00  \n"
          ]
        }
      ]
    },
    {
      "cell_type": "markdown",
      "source": [
        "\n",
        "\n",
        "---\n",
        "\n",
        "\n",
        "# Exercice 3 : `Mise à jour`"
      ],
      "metadata": {
        "id": "lMiRWbT9kuFK"
      }
    },
    {
      "cell_type": "code",
      "source": [
        "###############################################   Exercice 3: Mise à jour\n",
        "\n",
        "# Énoncé: Mettez à jour le document que vous avez indexé précédemment\n",
        "# (utilisez l'ID du document retourné lors de l'indexation) pour changer la quantité à 95.\n",
        "\n",
        "# Correction: (Notez que vous devez remplacer YOUR_DOCUMENT_ID par l'ID réel)\n",
        "\n",
        "response = es.update(index=\"ecommerce\", id=\"ueRGWo0BeKZ3WHn9XJAy\", body={\n",
        "    \"doc\": {\n",
        "        \"quantity\": 95\n",
        "    }\n",
        "})\n",
        "\n",
        "print(response)"
      ],
      "metadata": {
        "colab": {
          "base_uri": "https://localhost:8080/"
        },
        "id": "K4bDyKVpuZvb",
        "outputId": "428910e0-1cb3-4e2f-a2a8-b738e71901f5"
      },
      "execution_count": null,
      "outputs": [
        {
          "output_type": "stream",
          "name": "stdout",
          "text": [
            "{'_index': 'ecommerce', '_id': 'ueRGWo0BeKZ3WHn9XJAy', '_version': 4, 'result': 'updated', '_shards': {'total': 2, 'successful': 2, 'failed': 0}, '_seq_no': 3, '_primary_term': 1}\n"
          ]
        }
      ]
    },
    {
      "cell_type": "code",
      "source": [
        "response = es.search(index=\"ecommerce\", body={\n",
        "    \"query\": {\n",
        "        \"match_all\": {\n",
        "        }\n",
        "    }\n",
        "})\n",
        "\n",
        "print(response)"
      ],
      "metadata": {
        "colab": {
          "base_uri": "https://localhost:8080/"
        },
        "id": "w2dsjIBPubaK",
        "outputId": "00bc9f59-7786-43f3-954f-4bd99c6965c7"
      },
      "execution_count": null,
      "outputs": [
        {
          "output_type": "stream",
          "name": "stdout",
          "text": [
            "{'took': 10, 'timed_out': False, '_shards': {'total': 1, 'successful': 1, 'skipped': 0, 'failed': 0}, 'hits': {'total': {'value': 1, 'relation': 'eq'}, 'max_score': 1.0, 'hits': [{'_index': 'ecommerce', '_id': 'ueRGWo0BeKZ3WHn9XJAy', '_score': 1.0, '_source': {'product': 'Chaussures de sport', 'price': 59.99, 'currency': 'EUR', 'quantity': 95, 'brand': 'SportyCo', 'timestamp': '2023-08-29T12:01:00'}}]}}\n"
          ]
        }
      ]
    },
    {
      "cell_type": "code",
      "source": [
        "# Get source information\n",
        "hits = response['hits']['hits']\n",
        "source_list = [hit['_source'] for hit in hits]\n",
        "df = pd.json_normalize(source_list)\n",
        "print(df)"
      ],
      "metadata": {
        "colab": {
          "base_uri": "https://localhost:8080/"
        },
        "id": "VcJgZbEJubW0",
        "outputId": "7054b562-cb49-4ac4-9f33-61dc8f778e68"
      },
      "execution_count": null,
      "outputs": [
        {
          "output_type": "stream",
          "name": "stdout",
          "text": [
            "               product  price currency  quantity     brand  \\\n",
            "0  Chaussures de sport  59.99      EUR        95  SportyCo   \n",
            "\n",
            "             timestamp  \n",
            "0  2023-08-29T12:01:00  \n"
          ]
        }
      ]
    },
    {
      "cell_type": "markdown",
      "source": [
        "\n",
        "\n",
        "---\n",
        "\n",
        "\n",
        "# Exercice 4 : `Agrégations`"
      ],
      "metadata": {
        "id": "nezgUBW5uck-"
      }
    },
    {
      "cell_type": "code",
      "source": [
        "###############################################   Exercice 4: Agrégations\n",
        "\n",
        "# Énoncé: Obtenez le prix moyen de tous les produits dans l'index ecommerce.\n",
        "\n",
        "# Correction:\n",
        "response = es.search(index=\"ecommerce\", body={\n",
        "    \"size\": 0,\n",
        "    \"aggs\": {\n",
        "        \"avg_price\": {\n",
        "            \"avg\": {\n",
        "                \"field\": \"price\"\n",
        "            }\n",
        "        }\n",
        "    }\n",
        "})\n",
        "avg_price = response['aggregations']['avg_price']['value']\n",
        "print(f\"Prix moyen: {avg_price} EUR\")\n"
      ],
      "metadata": {
        "colab": {
          "base_uri": "https://localhost:8080/"
        },
        "id": "JWJB2AB7eTeD",
        "outputId": "f3b24464-4885-4b50-efb2-a74fc55fe389"
      },
      "execution_count": null,
      "outputs": [
        {
          "output_type": "stream",
          "name": "stdout",
          "text": [
            "Prix moyen: 59.9900016784668 EUR\n"
          ]
        }
      ]
    },
    {
      "cell_type": "markdown",
      "source": [
        "\n",
        "\n",
        "---\n",
        "\n",
        "\n",
        "# Exercice 5 : `Suppression`"
      ],
      "metadata": {
        "id": "QEQQHSe1xBO0"
      }
    },
    {
      "cell_type": "code",
      "source": [
        "####################################################    Exercice 5: Suppression\n",
        "##Correction: (Remplacez YOUR_DOCUMENT_ID par l'ID réel)\n",
        "\n",
        "response = es.delete(index=\"ecommerce\", id=\"ueRGWo0BeKZ3WHn9XJAy\")\n",
        "print(response)"
      ],
      "metadata": {
        "id": "a1mXy2Cgw6Dc"
      },
      "execution_count": null,
      "outputs": []
    },
    {
      "cell_type": "code",
      "source": [],
      "metadata": {
        "id": "T-Xt084o8X4y"
      },
      "execution_count": null,
      "outputs": []
    }
  ]
}